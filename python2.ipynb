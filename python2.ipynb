{
 "cells": [
  {
   "cell_type": "code",
   "execution_count": null,
   "metadata": {},
   "outputs": [],
   "source": [
    "s1 = \"Python language\"\n",
    "\n",
    "l = len(s1)\n",
    "print(l)"
   ]
  },
  {
   "cell_type": "code",
   "execution_count": null,
   "metadata": {},
   "outputs": [],
   "source": [
    "s1 = \"Python language\"\n",
    "\n",
    "l = len(s1)\n",
    "x = 0\n",
    "while x < l:\n",
    "    print(l[x])\n",
    "    x += 1\n",
    "\n",
    "print(\"End of loop\")"
   ]
  }
 ],
 "metadata": {
  "language_info": {
   "name": "python"
  }
 },
 "nbformat": 4,
 "nbformat_minor": 2
}
